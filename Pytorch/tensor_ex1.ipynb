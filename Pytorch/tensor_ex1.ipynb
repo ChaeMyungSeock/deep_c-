{
 "metadata": {
  "language_info": {
   "codemirror_mode": {
    "name": "ipython",
    "version": 3
   },
   "file_extension": ".py",
   "mimetype": "text/x-python",
   "name": "python",
   "nbconvert_exporter": "python",
   "pygments_lexer": "ipython3",
   "version": "3.7.6-final"
  },
  "orig_nbformat": 2,
  "kernelspec": {
   "name": "Python 3.7.6 64-bit (virtualenv)",
   "display_name": "Python 3.7.6 64-bit (virtualenv)",
   "metadata": {
    "interpreter": {
     "hash": "513dc2e41d739bb2c947903f3c0bbf636d03aa53ab50e61c694a27481c81805e"
    }
   }
  }
 },
 "nbformat": 4,
 "nbformat_minor": 2,
 "cells": [
  {
   "source": [
    "import numpy as np\n",
    "import torch"
   ],
   "cell_type": "code",
   "metadata": {},
   "execution_count": null,
   "outputs": []
  },
  {
   "source": [
    "# 중첩 list를 지정\n",
    "t = torch.tensor([[1, 2], [3, 4.]])"
   ],
   "cell_type": "code",
   "metadata": {},
   "execution_count": null,
   "outputs": []
  },
  {
   "cell_type": "code",
   "execution_count": null,
   "metadata": {},
   "outputs": [],
   "source": [
    "# device를 지정하면 GPU에 텐서를 만들 수 있다.\n",
    "t = torch.tensor([[1, 2], [3, 4.]], device = \"cuda:0\")\n",
    "\n",
    "# dtype를 사용해 데이터형을 지정하여 텐서를 만들 수 있다.\n",
    "t = torch.tensor([[1, 2], [3, 4.]], dtype = torch.float64)\n",
    "\n",
    "# 0부터 9까지의 수치로 초기화된 1차원 텐서\n",
    "t = torch.arange(0,10)\n",
    "\n",
    "# 모든 값이 0인 100 x 10 텐서를\n",
    "# 작성해서 to 메서드로 GPU에 전송\n",
    "t = torch.zeros(100, 10).to(\"cuda:0\")\n",
    "\n",
    "# 정규 난수로 100 x 10의 텐서를 작성\n",
    "t = torch.randn(100, 10)\n",
    "\n",
    "# 텐서의 shape은 size 메서드로 확인 가능\n",
    "t.size()"
   ]
  },
  {
   "cell_type": "code",
   "execution_count": null,
   "metadata": {},
   "outputs": [],
   "source": []
  }
 ]
}